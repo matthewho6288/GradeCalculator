{
 "cells": [
  {
   "cell_type": "code",
   "execution_count": 4,
   "id": "atlantic-reunion",
   "metadata": {},
   "outputs": [],
   "source": [
    "\"\"\"\n",
    "    This function asks for users to input grade scores which are put into an\n",
    "    array. The array is then returned by the function.\n",
    "\"\"\"\n",
    "def getScores():\n",
    "    score_list = []\n",
    "    score = input(\"type your score or 'finished' if you have no scores to enter: \")\n",
    "    if score != \"finished\":\n",
    "        try:\n",
    "            score = float(score)\n",
    "            score_list.append(score)\n",
    "        except ValueError:\n",
    "            print(\"invalid score\")\n",
    "    while(score != \"finished\"):\n",
    "        score = input(\"type your score or 'finished' if you have no scores to enter: \")\n",
    "        if score == \"finished\":\n",
    "                break\n",
    "        try:\n",
    "            score = float(score)\n",
    "            score_list.append(score)\n",
    "        except ValueError:\n",
    "            print(\"invalid score\")    \n",
    "    return score_list"
   ]
  },
  {
   "cell_type": "code",
   "execution_count": 5,
   "id": "documented-marker",
   "metadata": {},
   "outputs": [],
   "source": [
    "\"\"\"\n",
    "    This function ask for users to input scores and their weights.\n",
    "    The scores and weights are put into separate arrays. The two arrays\n",
    "    are then put into another array which is returned.\n",
    "\"\"\"\n",
    "def getWeightedScores():\n",
    "    scoreWeight = []\n",
    "    score_list = []\n",
    "    weight_list = []\n",
    "    score = input(\"type your score or 'finished' if you have no scores to enter: \")\n",
    "    weight = input(\"type the weight of the score: \")\n",
    "    if score != \"finished\":\n",
    "        try:\n",
    "            score = float(score)\n",
    "            weight = float(weight)\n",
    "            score_list.append(score)\n",
    "            weight_list.append(weight)\n",
    "        except ValueError:\n",
    "            print(\"invalid score or weight\")\n",
    "    while(score != \"finished\"):\n",
    "        score = input(\"type your score or 'finished' if you have no scores to enter: \")\n",
    "        if score == \"finished\":\n",
    "            break\n",
    "        try:\n",
    "            weight = input(\"type the weight of the score: \")\n",
    "            score = float(score)\n",
    "            weight = float(weight)\n",
    "            score_list.append(score)\n",
    "            weight_list.append(weight)\n",
    "        except ValueError:\n",
    "            print(\"invalid score or weight\")   \n",
    "    scoreWeight.append(score_list)\n",
    "    scoreWeight.append(weight_list)\n",
    "    return scoreWeight"
   ]
  },
  {
   "cell_type": "code",
   "execution_count": null,
   "id": "fourth-thanks",
   "metadata": {},
   "outputs": [],
   "source": [
    "\"\"\"\n",
    "    This function converts a float grade into a GPA according to a four point \n",
    "    scale. The GPA returned is a float.\n",
    "\"\"\"\n",
    "def GPA_converter(grade):\n",
    "    GPA = 0\n",
    "    if (grade <= 66 and grade >= 60):\n",
    "        GPA = 1.0\n",
    "    elif (grade <= 69 and grade >= 67):\n",
    "        GPA = 1.3\n",
    "    elif (grade <= 72 and grade >= 70):\n",
    "        GPA = 1.7\n",
    "    elif (grade <= 76 and grade >= 73):\n",
    "        GPA = 2.0\n",
    "    elif (grade <= 79 and grade >= 77):\n",
    "        GPA = 2.3\n",
    "    elif (grade <= 82 and grade >= 80):\n",
    "        GPA = 2.7\n",
    "    elif (grade <= 86 and grade >= 83):\n",
    "        GPA = 2.7\n",
    "    elif (grade <= 89 and grade >= 87):\n",
    "        GPA = 3.3\n",
    "    elif (grade <= 92 and grade >= 90):\n",
    "        GPA = 3.7\n",
    "    elif (grade >= 93):\n",
    "        GPA = 4.0\n",
    "    return GPA"
   ]
  },
  {
   "cell_type": "code",
   "execution_count": 12,
   "id": "recent-allergy",
   "metadata": {},
   "outputs": [],
   "source": [
    "\"\"\"\n",
    "    This function returns a 2D array that contains a list of grades \n",
    "    and a list of corresponding credits.\n",
    "\"\"\"\n",
    "def getGradesandCredits():\n",
    "    grades = []\n",
    "    credits = []\n",
    "    grade_n_creds = []\n",
    "    \n",
    "    grade = input(\"type your grade or 'finished' if you have no grades to enter: \")\n",
    "    \n",
    "    if (grade != \"finished\"):\n",
    "        try:\n",
    "            cred = input(\"type the number of credits for your class: \")\n",
    "            grade = float(grade)\n",
    "            cred = float(cred)\n",
    "            grades.append(grade)\n",
    "            credits.append(cred)\n",
    "        except ValueError:\n",
    "            print(\"invalid grade or credit\")\n",
    "    while(grade != \"finished\"):\n",
    "        grade = input(\"type your grade or 'finished' if you have no grades to enter: \")\n",
    "        cred = input(\"type the number of credits for your class: \")\n",
    "        if (grade == \"finished\"):\n",
    "            break\n",
    "        try:\n",
    "            grade = float(grade)\n",
    "            cred = float(cred)\n",
    "            grades.append(grade)\n",
    "            credits.append(cred)\n",
    "        except ValueError:\n",
    "            print(\"invalid grade or credit\")\n",
    "    grade_n_creds.append(grades)\n",
    "    grade_n_creds.append(credits)\n",
    "    return grade_n_creds"
   ]
  },
  {
   "cell_type": "code",
   "execution_count": 13,
   "id": "gross-performer",
   "metadata": {},
   "outputs": [
    {
     "name": "stdout",
     "output_type": "stream",
     "text": [
      "type your grade or 'finished' if you have no grades to enter: i\n",
      "type the number of credits for your class: i\n",
      "invalid grade or credit\n",
      "type your grade or 'finished' if you have no grades to enter: 100\n",
      "type the number of credits for your class: 3\n",
      "type your grade or 'finished' if you have no grades to enter: 90\n",
      "type the number of credits for your class: 3\n",
      "type your grade or 'finished' if you have no grades to enter: 78\n",
      "type the number of credits for your class: 3\n",
      "type your grade or 'finished' if you have no grades to enter: 99\n",
      "type the number of credits for your class: 3\n",
      "type your grade or 'finished' if you have no grades to enter: finished\n",
      "type the number of credits for your class: finished\n"
     ]
    },
    {
     "data": {
      "text/plain": [
       "[[100.0, 90.0, 78.0, 99.0], [3.0, 3.0, 3.0, 3.0]]"
      ]
     },
     "execution_count": 13,
     "metadata": {},
     "output_type": "execute_result"
    }
   ],
   "source": [
    "getGradesandCredits()"
   ]
  },
  {
   "cell_type": "code",
   "execution_count": 1,
   "id": "cardiac-tablet",
   "metadata": {},
   "outputs": [],
   "source": [
    "\"\"\"\n",
    "    Simple grade calculator. Given a list of grades in float representation, an\n",
    "    unweighted overall grade is calculated. \n",
    "\"\"\"\n",
    "def calculateOverAllGrade(grade_list):\n",
    "    sum_total = 0\n",
    "    num_total = 0\n",
    "    for grade in grade_list:\n",
    "        sum_total = grade + sum_total\n",
    "        num_total = 1 + num_total\n",
    "    gpa = sum_total / num_total\n",
    "    return gpa"
   ]
  },
  {
   "cell_type": "code",
   "execution_count": 14,
   "id": "color-still",
   "metadata": {},
   "outputs": [],
   "source": [
    "\"\"\"\n",
    "    GPA calculator.\n",
    "\"\"\"\n",
    "def calculate_GPA():\n",
    "    grades = []\n",
    "    credits = []\n",
    "    grade = input(\"type your grade or 'finished' if you have no grades to enter: \")\n",
    "    if (grade != \"finished\"):\n",
    "        grade = float(grade)\n",
    "    cred = int(input(\"type the number of credits for your class: \"))\n",
    "    sum_total = 0\n",
    "    cred_total = 0\n",
    "    while(grade != \"finished\"):\n",
    "        grades.append(grade)\n",
    "        credits.append(cred)\n",
    "        GPA = GPA_converter(grade)\n",
    "        sum_total = sum_total + (GPA * cred)\n",
    "        cred_total = cred_total + cred\n",
    "        grade = input(\"type your grade or 'finished' if you have no grades to enter: \")\n",
    "        if (grade != \"finished\"):\n",
    "            grade = float(grade)\n",
    "            cred = int(input(\"type the number of credits for your class: \"))\n",
    "    return sum_total /cred_total"
   ]
  },
  {
   "cell_type": "code",
   "execution_count": 1,
   "id": "international-switch",
   "metadata": {},
   "outputs": [],
   "source": [
    "\"\"\"\n",
    "    This function calculates the weighted grade given a list of scores \n",
    "    and a list of weights that correspond to the scores.\n",
    "\"\"\"\n",
    "def Weighted_Grader(score_list, weight_list):\n",
    "    i = 0\n",
    "    sum_total = 0\n",
    "    while i < len(score_list):\n",
    "        sum_total = sum_total + (score_list[i] * weight_list[i])\n",
    "        i = i + 1\n",
    "    return sum_total "
   ]
  },
  {
   "cell_type": "markdown",
   "id": "naked-commercial",
   "metadata": {},
   "source": []
  },
  {
   "cell_type": "markdown",
   "id": "decimal-madness",
   "metadata": {},
   "source": []
  },
  {
   "cell_type": "code",
   "execution_count": 6,
   "id": "atlantic-folks",
   "metadata": {},
   "outputs": [],
   "source": [
    "GPA4pointScale = [0.0, 1.0, 1.3, 1.7, 2.0, 2.3, 2.7, 3.0, 3.3, 3.7, 4.0]"
   ]
  },
  {
   "cell_type": "code",
   "execution_count": null,
   "id": "surprising-sailing",
   "metadata": {},
   "outputs": [],
   "source": [
    "calculateGPA()"
   ]
  },
  {
   "cell_type": "code",
   "execution_count": 13,
   "id": "architectural-norwegian",
   "metadata": {},
   "outputs": [
    {
     "name": "stdout",
     "output_type": "stream",
     "text": [
      "type your score or 'finished' if you have no scores to enter: 100\n",
      "type your score or 'finished' if you have no scores to enter: 90\n",
      "type your score or 'finished' if you have no scores to enter: 99\n",
      "type your score or 'finished' if you have no scores to enter: 97\n",
      "type your score or 'finished' if you have no scores to enter: 98\n",
      "type your score or 'finished' if you have no scores to enter: 92\n",
      "type your score or 'finished' if you have no scores to enter: 87\n",
      "type your score or 'finished' if you have no scores to enter: 86\n",
      "type your score or 'finished' if you have no scores to enter: i\n",
      "invalid score\n",
      "type your score or 'finished' if you have no scores to enter: finished\n"
     ]
    },
    {
     "data": {
      "text/plain": [
       "[100.0, 90.0, 99.0, 97.0, 98.0, 92.0, 87.0, 86.0]"
      ]
     },
     "execution_count": 13,
     "metadata": {},
     "output_type": "execute_result"
    }
   ],
   "source": [
    "getScores()"
   ]
  },
  {
   "cell_type": "code",
   "execution_count": 2,
   "id": "metallic-aviation",
   "metadata": {},
   "outputs": [
    {
     "name": "stdout",
     "output_type": "stream",
     "text": [
      "89.14285714285714\n"
     ]
    }
   ],
   "source": [
    "print(calculateOverAllGrade([0,100,20,90,301,103,10]))"
   ]
  },
  {
   "cell_type": "code",
   "execution_count": 2,
   "id": "oriented-bumper",
   "metadata": {},
   "outputs": [
    {
     "data": {
      "text/plain": [
       "82.1"
      ]
     },
     "execution_count": 2,
     "metadata": {},
     "output_type": "execute_result"
    }
   ],
   "source": [
    "score_list = [82, 90, 76]\n",
    "weight_list = [.2, .35, .45]\n",
    "Weighted_Grader(score_list, weight_list)"
   ]
  }
 ],
 "metadata": {
  "kernelspec": {
   "display_name": "Python 3",
   "language": "python",
   "name": "python3"
  },
  "language_info": {
   "codemirror_mode": {
    "name": "ipython",
    "version": 3
   },
   "file_extension": ".py",
   "mimetype": "text/x-python",
   "name": "python",
   "nbconvert_exporter": "python",
   "pygments_lexer": "ipython3",
   "version": "3.8.5"
  }
 },
 "nbformat": 4,
 "nbformat_minor": 5
}
